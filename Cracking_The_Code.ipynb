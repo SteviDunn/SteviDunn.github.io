{
  "nbformat": 4,
  "nbformat_minor": 0,
  "metadata": {
    "colab": {
      "provenance": [],
      "authorship_tag": "ABX9TyOXLKJVS6IR6eE1DSygQ6cD",
      "include_colab_link": true
    },
    "kernelspec": {
      "name": "python3",
      "display_name": "Python 3"
    },
    "language_info": {
      "name": "python"
    }
  },
  "cells": [
    {
      "cell_type": "markdown",
      "metadata": {
        "id": "view-in-github",
        "colab_type": "text"
      },
      "source": [
        "<a href=\"https://colab.research.google.com/github/SteviDunn/SteviDunn.github.io/blob/master/Cracking_The_Code.ipynb\" target=\"_parent\"><img src=\"https://colab.research.google.com/assets/colab-badge.svg\" alt=\"Open In Colab\"/></a>"
      ]
    },
    {
      "cell_type": "code",
      "execution_count": null,
      "metadata": {
        "colab": {
          "base_uri": "https://localhost:8080/"
        },
        "id": "P9ZSTwPXyL5W",
        "outputId": "64a5d5bc-e62e-4298-8202-e160dd74feb7"
      },
      "outputs": [
        {
          "output_type": "stream",
          "name": "stdout",
          "text": [
            "The string Cat has unique characters\n",
            "The string Apple does not have unique characters\n",
            "The string Pepper does not have unique characters\n"
          ]
        }
      ],
      "source": [
        "#1.1 Is Unique: Implement an algorithm to determine if a string has all unique characters. What if you\n",
        "#cannot use additional data structures? Hints: #44, #117, #132\n",
        "\n",
        "#my rough attempt\n",
        "# def unique(string: str):\n",
        "#   #code to translate string into iterable array? something else?\n",
        "#   for letter in range(len(string)):\n",
        "#     if string[letter+1] == string[letter]:\n",
        "#       print(f\"The string {string} does not have unique character\")\n",
        "#       break\n",
        "#     # else:\n",
        "#     #   print(f\"The string {string} has unique characters\")\n",
        "#     #   break\n",
        "\n",
        "# unique(\"Cat\")\n",
        "# unique(\"Apple\")\n",
        "\n",
        "#Why this is incorrect: curreent code just iterates through and compares each letter to itself\n",
        "#instead do a double for loop\n",
        "\n",
        "def unique(string:str):\n",
        "  for i in range(len(string)):\n",
        "    for j in range(i+1, len(string)):\n",
        "      if string[i] == string[j]:\n",
        "        print(f\"The string {string} does not have unique characters\")\n",
        "        return\n",
        "  print(f\"The string {string} has unique characters\")\n",
        "\n",
        "\n",
        "unique(\"Cat\")\n",
        "unique(\"Apple\")\n",
        "unique(\"Pepper\")\n",
        "\n",
        "\n",
        "\n",
        "#Actual Soluiton (from gpt)"
      ]
    },
    {
      "cell_type": "code",
      "source": [
        "#1.2 check permutation\n",
        "#Given two strings, write a method to decide if one is a permutation of the other\n",
        "def permutation(str1, str2):\n",
        "  n1= len(str1)\n",
        "  n2 =len(str2)\n",
        "\n",
        "  if n1 != n2:\n",
        "    return False\n",
        "\n",
        "  sort1 = sorted(str1)\n",
        "  sort2 = sorted(str2)\n",
        "\n",
        "  if sort1 == sort2:\n",
        "    return True\n",
        "\n",
        "permutation('egg', 'geg')\n",
        "\n"
      ],
      "metadata": {
        "id": "0bUNeZIjyZgX",
        "colab": {
          "base_uri": "https://localhost:8080/"
        },
        "outputId": "40461e46-6009-41db-e4a1-01a77f95c140"
      },
      "execution_count": null,
      "outputs": [
        {
          "output_type": "execute_result",
          "data": {
            "text/plain": [
              "True"
            ]
          },
          "metadata": {},
          "execution_count": 7
        }
      ]
    },
    {
      "cell_type": "code",
      "source": [
        "#Alternative method using has table\n",
        "class stringUtils():\n",
        "  def is_permutation(self, str1, str2):\n",
        "    #first check length\n",
        "    if len(str1) != len(str2):\n",
        "      return False\n",
        "    char_count = {}\n",
        "\n",
        "    for char in str1:\n",
        "      char_count[char] = char_count.get(char, 0) +1\n",
        "\n",
        "    print(char_count)\n",
        "\n",
        "    for char in str2:\n",
        "      if char in char_count:\n",
        "        char_count[char] -= 1\n",
        "\n",
        "        if char_count[char] <0:\n",
        "          return False\n",
        "      else:\n",
        "        return False\n",
        "\n",
        "    print(char_count)\n",
        "\n",
        "    #check if the length of hcar count is 0 (which it would be for permutation\n",
        "    for count in char_count.values():\n",
        "      if count != 0:\n",
        "        return False\n",
        "      else:\n",
        "        return True\n",
        "\n",
        "\n",
        "\n",
        "string_utils = stringUtils()\n",
        "result = string_utils.is_permutation('mom','omm')\n",
        "print(result)\n",
        "\n",
        "result2 = string_utils.is_permutation('lol','omm')\n",
        "print(result2)"
      ],
      "metadata": {
        "id": "j53S7dKO0v2n",
        "colab": {
          "base_uri": "https://localhost:8080/"
        },
        "outputId": "e9891957-1401-40b3-c9b8-69146b7ecd7c"
      },
      "execution_count": null,
      "outputs": [
        {
          "output_type": "stream",
          "name": "stdout",
          "text": [
            "{'m': 2, 'o': 1}\n",
            "{'m': 0, 'o': 0}\n",
            "True\n",
            "{'l': 2, 'o': 1}\n",
            "False\n"
          ]
        }
      ]
    },
    {
      "cell_type": "code",
      "source": [
        "#1.3 write a method to replace all spaces in a string with %20.\n",
        "#You may assume that the string has sufficient space at the end to\n",
        "#hold the additional characters, and that you are given the utrue\"\n",
        "#length of the string. (Note: If implementing in Java, please use a character\n",
        "# array so that you can perform this operation in place.)\n",
        "class Replace:\n",
        "  def string_replace(self, string):\n",
        "    new_string =''\n",
        "    for char in string:\n",
        "      if char == ' ':\n",
        "        new_string += '%20'\n",
        "      else:\n",
        "        new_string += char\n",
        "    return(new_string)\n",
        "\n",
        "rep = Replace()\n",
        "rep.string_replace('I am a cow')"
      ],
      "metadata": {
        "id": "wUlbGtaYwtIe",
        "colab": {
          "base_uri": "https://localhost:8080/",
          "height": 35
        },
        "outputId": "eb555bb2-a477-4bd3-d076-6451d302280c"
      },
      "execution_count": null,
      "outputs": [
        {
          "output_type": "execute_result",
          "data": {
            "text/plain": [
              "'I%20am%20a%20cow'"
            ],
            "application/vnd.google.colaboratory.intrinsic+json": {
              "type": "string"
            }
          },
          "metadata": {},
          "execution_count": 7
        }
      ]
    },
    {
      "cell_type": "code",
      "source": [],
      "metadata": {
        "id": "ApXZRQS750Eb"
      },
      "execution_count": null,
      "outputs": []
    },
    {
      "cell_type": "code",
      "source": [
        "#1.4 Palindrome Permutation: Given a string, write a function to check if it is\n",
        "# a permutation of a palindrome. A palindrome is a word or phrase that is the\n",
        "#same forwards and backwards. A permutation is a rearrangement of letters.\n",
        "#The palindrome does not need to be limited to just dictionary words.\n",
        "class Permutation:\n",
        "  def palindrome(self, string):\n",
        "    #cretate a hash table to count the character\n",
        "    char_count = {}\n",
        "\n",
        "    #loop through each char to add to teh count\n",
        "    for char in string:\n",
        "      char_count[char] = char_count.get(char,0) +1\n",
        "\n",
        "    #now filter out how many odd number items there are\n",
        "    odd_count = 0\n",
        "    for count in char_count.values():\n",
        "      if count %2 != 0:\n",
        "        odd_count += 1\n",
        "    return odd_count <=1\n",
        "\n",
        "per = Permutation()\n",
        "pal = per.palindrome('doodi')\n",
        "print(pal)\n",
        "pal2 = per.palindrome('cat')\n",
        "print(pal2)"
      ],
      "metadata": {
        "colab": {
          "base_uri": "https://localhost:8080/"
        },
        "id": "vd8Fmwigxj48",
        "outputId": "ee597a98-2e56-40d1-ccf5-98eadca6eb2f"
      },
      "execution_count": null,
      "outputs": [
        {
          "output_type": "stream",
          "name": "stdout",
          "text": [
            "True\n",
            "False\n"
          ]
        }
      ]
    },
    {
      "cell_type": "code",
      "source": [
        "#1.5 One Away: There are three types of edits that can be\n",
        "#performed on strings: insert a character,\n",
        "#remove a character, or replace a character.\n",
        "#Given two strings, write a function to check if they are\n",
        "#one edit (or zero edits) away\n",
        "\n",
        "#First rough attempt\n",
        "def one_away(str1, str2):\n",
        "  if str1 == str2:\n",
        "    return True\n",
        "\n",
        "  letter_count = {}\n",
        "  for letter in str1:\n",
        "    letter_count[letter] = letter_count.get(letter,0) + 1\n",
        "\n",
        "  for letter in str2:\n",
        "    letter_count[letter] = letter_count.get(letter, 0) -1\n",
        "\n",
        "  if abs(letter_count.values()) == 1:\n",
        "    return True\n",
        "  else:\n",
        "    return False\n",
        "\n",
        "one_away('app', 'ap')"
      ],
      "metadata": {
        "id": "tIHSMlQI5utb",
        "colab": {
          "base_uri": "https://localhost:8080/",
          "height": 297
        },
        "outputId": "06e2705e-9726-4293-dd33-eaff8659f664"
      },
      "execution_count": null,
      "outputs": [
        {
          "output_type": "error",
          "ename": "TypeError",
          "evalue": "bad operand type for abs(): 'dict_values'",
          "traceback": [
            "\u001b[0;31m---------------------------------------------------------------------------\u001b[0m",
            "\u001b[0;31mTypeError\u001b[0m                                 Traceback (most recent call last)",
            "\u001b[0;32m<ipython-input-2-1cf93f4944f6>\u001b[0m in \u001b[0;36m<cell line: 24>\u001b[0;34m()\u001b[0m\n\u001b[1;32m     22\u001b[0m     \u001b[0;32mreturn\u001b[0m \u001b[0;32mFalse\u001b[0m\u001b[0;34m\u001b[0m\u001b[0;34m\u001b[0m\u001b[0m\n\u001b[1;32m     23\u001b[0m \u001b[0;34m\u001b[0m\u001b[0m\n\u001b[0;32m---> 24\u001b[0;31m \u001b[0mone_away\u001b[0m\u001b[0;34m(\u001b[0m\u001b[0;34m'app'\u001b[0m\u001b[0;34m,\u001b[0m \u001b[0;34m'ap'\u001b[0m\u001b[0;34m)\u001b[0m\u001b[0;34m\u001b[0m\u001b[0;34m\u001b[0m\u001b[0m\n\u001b[0m",
            "\u001b[0;32m<ipython-input-2-1cf93f4944f6>\u001b[0m in \u001b[0;36mone_away\u001b[0;34m(str1, str2)\u001b[0m\n\u001b[1;32m     17\u001b[0m     \u001b[0mletter_count\u001b[0m\u001b[0;34m[\u001b[0m\u001b[0mletter\u001b[0m\u001b[0;34m]\u001b[0m \u001b[0;34m=\u001b[0m \u001b[0mletter_count\u001b[0m\u001b[0;34m.\u001b[0m\u001b[0mget\u001b[0m\u001b[0;34m(\u001b[0m\u001b[0mletter\u001b[0m\u001b[0;34m,\u001b[0m \u001b[0;36m0\u001b[0m\u001b[0;34m)\u001b[0m \u001b[0;34m-\u001b[0m\u001b[0;36m1\u001b[0m\u001b[0;34m\u001b[0m\u001b[0;34m\u001b[0m\u001b[0m\n\u001b[1;32m     18\u001b[0m \u001b[0;34m\u001b[0m\u001b[0m\n\u001b[0;32m---> 19\u001b[0;31m   \u001b[0;32mif\u001b[0m \u001b[0mabs\u001b[0m\u001b[0;34m(\u001b[0m\u001b[0mletter_count\u001b[0m\u001b[0;34m.\u001b[0m\u001b[0mvalues\u001b[0m\u001b[0;34m(\u001b[0m\u001b[0;34m)\u001b[0m\u001b[0;34m)\u001b[0m \u001b[0;34m==\u001b[0m \u001b[0;36m1\u001b[0m\u001b[0;34m:\u001b[0m\u001b[0;34m\u001b[0m\u001b[0;34m\u001b[0m\u001b[0m\n\u001b[0m\u001b[1;32m     20\u001b[0m     \u001b[0;32mreturn\u001b[0m \u001b[0;32mTrue\u001b[0m\u001b[0;34m\u001b[0m\u001b[0;34m\u001b[0m\u001b[0m\n\u001b[1;32m     21\u001b[0m   \u001b[0;32melse\u001b[0m\u001b[0;34m:\u001b[0m\u001b[0;34m\u001b[0m\u001b[0;34m\u001b[0m\u001b[0m\n",
            "\u001b[0;31mTypeError\u001b[0m: bad operand type for abs(): 'dict_values'"
          ]
        }
      ]
    },
    {
      "cell_type": "code",
      "source": [
        "#1.5 corrected version\n",
        "#1.5 One Away: There are three types of edits that can be\n",
        "#performed on strings: insert a character,\n",
        "#remove a character, or replace a character.\n",
        "#Given two strings, write a function to check if they are\n",
        "#one edit (or zero edits) away\n",
        "\n",
        "#First rough attempt\n",
        "def one_away(str1, str2):\n",
        "  if str1 == str2:\n",
        "    return True\n",
        "\n",
        "  letter_count = {}\n",
        "  for letter in str1:\n",
        "    letter_count[letter] = letter_count.get(letter,0) + 1\n",
        "\n",
        "  for letter in str2:\n",
        "    letter_count[letter] = letter_count.get(letter, 0) -1\n",
        "\n",
        "  if abs(sum(letter_count.values())) <= 2 | abs(sum(letter_count.values())) >=1:\n",
        "    return True\n",
        "  else:\n",
        "    return False\n",
        "\n",
        "def run_tests():\n",
        "    # Test Case 1: Same Strings (Zero Edits)\n",
        "    assert one_away('pale', 'pale') == True, \"Failed: Identical strings should return True\"\n",
        "\n",
        "    # Test Case 2: One Insert Away\n",
        "    assert one_away('pale', 'pales') == True, \"Failed: One insert (add 's') should return True\"\n",
        "    assert one_away('apple', 'aple') == True, \"Failed: One insert (add 'p') should return True\"\n",
        "\n",
        "    # Test Case 3: One Remove Away\n",
        "    assert one_away('pales', 'pale') == True, \"Failed: One remove (remove 's') should return True\"\n",
        "    assert one_away('pale', 'ple') == True, \"Failed: One remove (remove 'a') should return True\"\n",
        "\n",
        "    # Test Case 4: One Replace Away\n",
        "    assert one_away('pale', 'bale') == True, \"Failed: One replace (replace 'p' with 'b') should return True\"\n",
        "    assert one_away('pale', 'pall') == True, \"Failed: One replace (replace 'e' with 'l') should return True\"\n",
        "\n",
        "\n",
        "    print(\"All test cases passed!\")\n",
        "\n",
        "# Run the tests\n",
        "run_tests()\n"
      ],
      "metadata": {
        "colab": {
          "base_uri": "https://localhost:8080/"
        },
        "id": "0SStatlhjaSl",
        "outputId": "54eccd37-31fc-4fad-df8f-712eb1a56b3d"
      },
      "execution_count": null,
      "outputs": [
        {
          "output_type": "stream",
          "name": "stdout",
          "text": [
            "All test cases passed!\n"
          ]
        }
      ]
    },
    {
      "cell_type": "code",
      "source": [
        "#1.6\n",
        "def string_compression(input_str):\n",
        "    # Empty string to build compressed result\n",
        "    new_str = \"\"\n",
        "    # Initialize a count for each character\n",
        "    count = 1\n",
        "\n",
        "    # Loop through the input string, except for the last character\n",
        "    for i in range(len(input_str) - 1):\n",
        "        # If current character is the same as the next one, increment the count\n",
        "        if input_str[i] == input_str[i + 1]:\n",
        "            count += 1\n",
        "        else:\n",
        "            # Add the character and its count to the new string\n",
        "            new_str += input_str[i] + str(count)\n",
        "            # Reset count to 1 for the next character\n",
        "            count = 1\n",
        "\n",
        "    # Add the last character and its count (after the loop ends)\n",
        "    new_str += input_str[-1] + str(count)\n",
        "\n",
        "    # Return the compressed string if it's shorter, otherwise return the original string\n",
        "    if len(new_str) >= len(input_str):\n",
        "        return input_str\n",
        "    else:\n",
        "        return new_str\n",
        "\n",
        "# Testing the function\n",
        "print(string_compression('aabcccccaaa'))  # Expected output: a2b1c5a3\n"
      ],
      "metadata": {
        "id": "8IZvZUpmlox9",
        "colab": {
          "base_uri": "https://localhost:8080/"
        },
        "outputId": "bbe84c2c-1da7-4e25-f453-6c07aa28340d"
      },
      "execution_count": null,
      "outputs": [
        {
          "output_type": "stream",
          "name": "stdout",
          "text": [
            "a2b1c5a3\n"
          ]
        }
      ]
    },
    {
      "cell_type": "code",
      "source": [
        "#1.7"
      ],
      "metadata": {
        "id": "LEz3uy7yfly9"
      },
      "execution_count": null,
      "outputs": []
    },
    {
      "cell_type": "code",
      "source": [
        "#1.8"
      ],
      "metadata": {
        "id": "Mz4v-tNox-UM"
      },
      "execution_count": null,
      "outputs": []
    },
    {
      "cell_type": "code",
      "source": [
        "#1.9"
      ],
      "metadata": {
        "id": "NOfweKCVx_aq"
      },
      "execution_count": null,
      "outputs": []
    },
    {
      "cell_type": "code",
      "source": [
        "#Linked Lists\n",
        "#simple linked list implementation\n",
        "class Node:\n",
        "  def __init__(self, data):\n",
        "    self.data = data\n",
        "    #initialize the next node to None\n",
        "    self.next = None\n",
        "\n",
        "  def append(self, data):\n",
        "    #the end of the linked list initally will be the input we give to Node\n",
        "    end = Node(data)\n",
        "    #for appending, we go throgh the lsit starting with n the current node\n",
        "    n = self\n",
        "    #traverse to the end of the list\n",
        "    #while we are not at the end, keep going\n",
        "    while n.next is not None:\n",
        "      n = n.next\n",
        "    #while stops when we reach the the end which is None\n",
        "    n.next = end\n",
        "\n",
        "  def delete_node(self, key):\n",
        "    cur_node = self.head\n",
        "    #check if key is the head condition if its nont continue\n",
        "    if cur_node and cur_node.data == key:\n",
        "      #change head to next node\n",
        "      self.head = cur_node.next\n",
        "      cur_node = None\n",
        "      return\n",
        "\n",
        "    #loop through items to find key and remove\n",
        "    prev =None\n",
        "    while cur_node and cur_node.data != key:\n",
        "      prev = cur_node\n",
        "      cur_node = cur_node.next\n",
        "    if cur_node is None:\n",
        "      return\n",
        "    prev.next = cur_node.next\n",
        "    cur_node = None\n",
        "\n",
        "\n",
        "def print_ll(node):\n",
        "  current = node\n",
        "  while current:\n",
        "    print(current.data, end = \"->\" if current.next else \"\")\n",
        "    current = current.next\n",
        "  print()\n",
        "\n",
        "head = Node(5)\n",
        "head.append(6)\n",
        "head.append(8)\n",
        "head.append(1)\n",
        "\n",
        "\n",
        "\n",
        "print_ll(head)"
      ],
      "metadata": {
        "colab": {
          "base_uri": "https://localhost:8080/"
        },
        "id": "WsscisvQMLQK",
        "outputId": "e59f49b8-27bd-47bc-c722-7a78adf96dba"
      },
      "execution_count": null,
      "outputs": [
        {
          "output_type": "stream",
          "name": "stdout",
          "text": [
            "5->6->8->1\n"
          ]
        }
      ]
    },
    {
      "cell_type": "code",
      "source": [
        "#Linked Lists\n",
        "#simple linked list implementation\n",
        "class Node:\n",
        "    def __init__(self, data):\n",
        "        self.data = data\n",
        "        #initialize the next node to None\n",
        "        self.next = None\n",
        "\n",
        "class LinkedList:\n",
        "    def __init__(self):\n",
        "        self.head = None\n",
        "\n",
        "    def append(self, data):\n",
        "        new_node = Node(data)\n",
        "        if self.head is None:\n",
        "            self.head = new_node\n",
        "            return\n",
        "        # traverse to the end of the list and append the new node\n",
        "        last = self.head\n",
        "        while last.next:\n",
        "            last = last.next\n",
        "        last.next = new_node\n",
        "\n",
        "    def delete_node(self, key):\n",
        "        cur = self.head\n",
        "        # check if the head node contains the key\n",
        "        if cur and cur.data == key:\n",
        "            self.head = cur.next\n",
        "            cur = None\n",
        "            return\n",
        "        # loop through the list to find the key\n",
        "        prev = None\n",
        "        while cur and cur.data != key:\n",
        "            prev = cur\n",
        "            cur = cur.next\n",
        "        if cur is None:\n",
        "            return\n",
        "        prev.next = cur.next\n",
        "        cur = None\n",
        "\n",
        "    def remove_duplicates(self):\n",
        "        cur = self.head\n",
        "        prev = None\n",
        "        dup_values = set()\n",
        "\n",
        "        # iterate through the list\n",
        "        while cur:\n",
        "            if cur.data in dup_values:\n",
        "                # remove the node by skipping it\n",
        "                prev.next = cur.next\n",
        "            else:\n",
        "                # add the value to the set\n",
        "                dup_values.add(cur.data)\n",
        "                prev = cur\n",
        "            cur = prev.next if prev else None\n",
        "\n",
        "def print_ll(ll):\n",
        "    current = ll.head\n",
        "    while current:\n",
        "        print(current.data, end=\"->\" if current.next else \"\")\n",
        "        current = current.next\n",
        "    print()\n",
        "\n",
        "# Create linked list and test functionality\n",
        "ll = LinkedList()\n",
        "ll.append(5)\n",
        "ll.append(6)\n",
        "ll.append(8)\n",
        "ll.append(1)\n",
        "ll.append(1)\n",
        "\n",
        "print(\"Before removing duplicates:\")\n",
        "print_ll(ll)\n",
        "\n",
        "ll.remove_duplicates()\n",
        "\n",
        "print(\"\\nAfter removing duplicates:\")\n",
        "print_ll(ll)\n"
      ],
      "metadata": {
        "id": "2fl_o7IPNX7u",
        "colab": {
          "base_uri": "https://localhost:8080/"
        },
        "outputId": "01470cd2-c599-47e5-b747-752e60caa57e"
      },
      "execution_count": null,
      "outputs": [
        {
          "output_type": "stream",
          "name": "stdout",
          "text": [
            "Before removing duplicates:\n",
            "5->6->8->1->1\n",
            "\n",
            "After removing duplicates:\n",
            "5->6->8->1\n"
          ]
        }
      ]
    },
    {
      "cell_type": "code",
      "source": [
        "#2.1 Kth to last element return\n",
        "#native approach is to find the length of the list then subtract from the end\n",
        "class Node:\n",
        "\n",
        "  #constructor to initializa a new node with data\n",
        "  def __init__(self, new_data):\n",
        "    self.data = new_data\n",
        "    self.next = None\n",
        "\n",
        "#function to find the nth node from the last of linked list\n",
        "def findKthFromLast(head, N):\n",
        "  length = 0\n",
        "  temp = head\n",
        "\n",
        "  #count the number of nodes in the linked list\n",
        "  while temp is not None:\n",
        "    temp = temp.next\n",
        "    length += 1\n",
        "\n",
        "    #check if value of N is not more than length of linked list\n",
        "  if length < N:\n",
        "      return -1\n",
        "\n",
        "  temp = head\n",
        "\n",
        "    #get the (length-N +1)th the node from the beginning\n",
        "  for _  in range(1, length-N +1):\n",
        "    temp = temp.next\n",
        "\n",
        "  return temp.data\n",
        "\n",
        "\n",
        "# Create a hard-coded linked list:\n",
        "# 35 -> 15 -> 4 -> 20\n",
        "head = Node(35)\n",
        "head.next = Node(15)\n",
        "head.next.next = Node(4)\n",
        "head.next.next.next = Node(20)\n",
        "\n",
        "# Function Call to find the 4th node from end\n",
        "print(findNthFromLast(head, 4))"
      ],
      "metadata": {
        "id": "m1lNpgN6SOsq",
        "colab": {
          "base_uri": "https://localhost:8080/",
          "height": 176
        },
        "outputId": "e5378bc7-c8b3-4f51-cd6c-0a46496cd0dc"
      },
      "execution_count": null,
      "outputs": [
        {
          "output_type": "error",
          "ename": "NameError",
          "evalue": "name 'findNthFromLast' is not defined",
          "traceback": [
            "\u001b[0;31m---------------------------------------------------------------------------\u001b[0m",
            "\u001b[0;31mNameError\u001b[0m                                 Traceback (most recent call last)",
            "\u001b[0;32m<ipython-input-6-76462f2640ba>\u001b[0m in \u001b[0;36m<cell line: 41>\u001b[0;34m()\u001b[0m\n\u001b[1;32m     39\u001b[0m \u001b[0;34m\u001b[0m\u001b[0m\n\u001b[1;32m     40\u001b[0m \u001b[0;31m# Function Call to find the 4th node from end\u001b[0m\u001b[0;34m\u001b[0m\u001b[0;34m\u001b[0m\u001b[0m\n\u001b[0;32m---> 41\u001b[0;31m \u001b[0mprint\u001b[0m\u001b[0;34m(\u001b[0m\u001b[0mfindNthFromLast\u001b[0m\u001b[0;34m(\u001b[0m\u001b[0mhead\u001b[0m\u001b[0;34m,\u001b[0m \u001b[0;36m4\u001b[0m\u001b[0;34m)\u001b[0m\u001b[0;34m)\u001b[0m\u001b[0;34m\u001b[0m\u001b[0;34m\u001b[0m\u001b[0m\n\u001b[0m",
            "\u001b[0;31mNameError\u001b[0m: name 'findNthFromLast' is not defined"
          ]
        }
      ]
    },
    {
      "cell_type": "code",
      "source": [
        "#2.3 Delete middle node of LL but only have access to that node\n",
        "#key idea is to copy the current data from the next node to the current node\n",
        "#then bypass the next node\n",
        "class Node:\n",
        "  def __init__(self, data=0, next_node = None):\n",
        "    self.data = data\n",
        "    self.next = next_node\n",
        "#function to delete middle node from the linked list\n",
        "def deleteMid(node):\n",
        "  if node is None or node.next is None:\n",
        "    #cant delete the last node or a non-existant node\n",
        "    return\n",
        "\n",
        "  #copy the data from thenext node to the current node\n",
        "  next_node = node.next\n",
        "  node.value = next_node.value\n",
        "  node.next = next_node.next\n",
        "\n"
      ],
      "metadata": {
        "id": "VyhGhK6Bykrm"
      },
      "execution_count": null,
      "outputs": []
    },
    {
      "cell_type": "code",
      "source": [
        "#2.4 Partition\n",
        "class ListNode:\n",
        "  def __init__(self, value=0, next_node=None):\n",
        "    self.value = value\n",
        "    self.next = next_node\n",
        "\n",
        "def partition(head, x):\n",
        "  #crete two dummy nodes to start the less and greater lists\n",
        "  less_head = ListNode(0)\n",
        "  greater_head = ListNode(0)\n",
        "\n",
        "  #pointer to the current nodes in the less and greter lists\n",
        "  less = less_head\n",
        "  greater = greater_head\n",
        "\n",
        "  #traverse the original list\n",
        "  current = head\n",
        "  while current:\n",
        "    if current.value < x:\n",
        "      #add to the less list\n",
        "      less.next = current\n",
        "      less = less.next\n",
        "\n",
        "    else:\n",
        "      #add to greater list\n",
        "      greater.next = current\n",
        "      greater = greater.next\n",
        "\n",
        "    current = current.next\n",
        "\n",
        "  #end the greater list\n",
        "  greater.next = None\n",
        "  #connect the less list to the greater list\n",
        "  less.next = greater_head.next\n",
        "\n",
        "  #return the merged lsit\n",
        "  return less_head.next\n",
        "\n",
        "\n",
        "def print_linked_list(head):\n",
        "  current = head\n",
        "  while current:\n",
        "    print(current.value, end=\"->\" if current.next else \"\\n\")\n",
        "    current = current.next\n",
        "\n",
        "\n",
        "\n",
        "# Test the partition function\n",
        "# Create a linked list: 3 -> 5 -> 8 -> 5 -> 10 -> 2 -> 1\n",
        "head = ListNode(3)\n",
        "head.next = ListNode(5)\n",
        "head.next.next = ListNode(8)\n",
        "head.next.next.next = ListNode(5)\n",
        "head.next.next.next.next = ListNode(10)\n",
        "head.next.next.next.next.next = ListNode(2)\n",
        "head.next.next.next.next.next.next = ListNode(1)\n",
        "\n",
        "# Print the original linked list\n",
        "print(\"Original linked list:\")\n",
        "print_linked_list(head)\n",
        "\n",
        "# Partition the list around the value 5\n",
        "partitioned_head = partition(head, 5)\n",
        "\n",
        "# Print the partitioned linked list\n",
        "print(\"\\nPartitioned linked list around 5:\")\n",
        "print_linked_list(partitioned_head)"
      ],
      "metadata": {
        "colab": {
          "base_uri": "https://localhost:8080/"
        },
        "id": "3OLDlyIrV6n3",
        "outputId": "171b1e49-5411-4003-c190-b61b7d59d0c2"
      },
      "execution_count": null,
      "outputs": [
        {
          "output_type": "stream",
          "name": "stdout",
          "text": [
            "Original linked list:\n",
            "3->5->8->5->10->2->1\n",
            "\n",
            "Partitioned linked list around 5:\n",
            "3->2->1->5->8->5->10\n"
          ]
        }
      ]
    },
    {
      "cell_type": "code",
      "source": [
        "#2.5 Sum Lists\n",
        "#You have two numbers represented by a linked list, where each node contains a single\n",
        "#digit. The digits are stored in reverse order, such that the 1 's digit is at the head of the list.\n",
        "#Write a function that adds the two numbers and returns the sum as a linked list.\n",
        "\n",
        "class Solution:\n",
        "  def addTwo(self, l1:ListNode, l2:ListNode) -> ListNode:\n",
        "\n",
        "    #dummy node\n",
        "    dummy = ListNode()\n",
        "    current = dummy\n",
        "    carry = 0\n",
        "\n",
        "    #iterate if either l has a digit\n",
        "    while l1 or l2 or carry:\n",
        "      #set the values to be added from the ll's\n",
        "      v1 = l1.val if l1 else 0\n",
        "      v2 = l2.val if l2 else 0\n",
        "\n",
        "      #new added digit\n",
        "      val = v1 +v2 +carry\n",
        "      #if carry >1 digit\n",
        "      carry = val//10\n",
        "      val = val % 10\n",
        "\n",
        "      current.next = ListNode(val)\n",
        "\n",
        "      #update the pointers\n",
        "      current = current.next\n",
        "      l1 = l1.next if l1 else None\n",
        "      l2 = l2.next if l2 else None\n",
        "\n",
        "    return dummy.next"
      ],
      "metadata": {
        "id": "yXRuBPDTsme1"
      },
      "execution_count": null,
      "outputs": []
    },
    {
      "cell_type": "code",
      "source": [
        "#2.6 Palindrome\n",
        "#expected approach- reverse second half of the linked list starting for the middle\n",
        "#then after reversing, iterate through both lisits simultaneousluy using pointers and compare values\n",
        "#have fast and slow pointers travel the lsits\n",
        "#when fast head next is null then the slow is at teh middle node for odd lists\n",
        "#wen fast next next is null then the slow will bea t the middle\n",
        "\n",
        "#reverse the second half of the list starting from the middle\n",
        "#compare node values to see if its a palindrome\n",
        "#restore the list by undoing the reverse and linking them back together\n",
        "class Node:\n",
        "  def __init__(self, d):\n",
        "    self.data = d\n",
        "    self.next = None\n",
        "\n",
        "  def reverse(head):\n",
        "    #reverse the list first\n",
        "    prev = None\n",
        "    curr = head\n",
        "    while curr: #continues as long as curr is not None\n",
        "      next_node = curr.next\n",
        "      curr.next = prev\n",
        "      prev = curr\n",
        "      curr = next_node\n",
        "    return prev\n",
        "\n",
        "  #function to determine if two lists are identical\n",
        "  def isIdential(n1, n2):\n",
        "    while n1 and n2:\n",
        "      if n1.data != n2.data:\n",
        "        return False\n",
        "      n1 = n1.next\n",
        "      n2= n2.next\n",
        "\n",
        "    return True\n",
        "\n",
        "  #functin to check if it's a palindrome\n",
        "  def isPalindrome(head):\n",
        "    if head is None or head.next is None:\n",
        "      return True\n",
        "\n",
        "    slow, fast = head, head\n",
        "\n",
        "    #find the middle of the list\n",
        "    while fast.next and fast.next.next:\n",
        "      slow = slow.next\n",
        "      fast = fast.next\n",
        "\n",
        "    #split the list and reverse the second half\n",
        "    head2 = reverse(slow.next)\n",
        "    slow.next = None\n",
        "\n",
        "    #check if the two halves are identical\n",
        "    ret = isIdentical(head, head)\n",
        "\n",
        "    #restore the original list\n",
        "    head2 = reverse(head2)\n",
        "    slow.next = head2\n",
        "\n",
        "    return ret\n",
        "\n",
        "if __name__ == \"__main__\":\n",
        "\n",
        "      # Linked list : 1->2->3->2->1\n",
        "    head = Node(1)\n",
        "    head.next = Node(2)\n",
        "    head.next.next = Node(3)\n",
        "    head.next.next.next = Node(2)\n",
        "    head.next.next.next.next = Node(1)\n",
        "\n",
        "    result = isPalindrome(head)\n",
        "\n",
        "    if result:\n",
        "        print(\"true\")\n",
        "    else:\n",
        "        print(\"false\")\n",
        "\n",
        "\n",
        "\n",
        "\n",
        "\n",
        "\n",
        "\n",
        "\n",
        "\n",
        "\n",
        "\n",
        "\n"
      ],
      "metadata": {
        "id": "BstU0F6g97d0",
        "colab": {
          "base_uri": "https://localhost:8080/",
          "height": 220
        },
        "outputId": "8bbb24dc-a9e7-4763-8043-4e60bd757d2e"
      },
      "execution_count": null,
      "outputs": [
        {
          "output_type": "error",
          "ename": "NameError",
          "evalue": "name 'isPalindrome' is not defined",
          "traceback": [
            "\u001b[0;31m---------------------------------------------------------------------------\u001b[0m",
            "\u001b[0;31mNameError\u001b[0m                                 Traceback (most recent call last)",
            "\u001b[0;32m<ipython-input-4-35b93c84605d>\u001b[0m in \u001b[0;36m<cell line: 62>\u001b[0;34m()\u001b[0m\n\u001b[1;32m     69\u001b[0m     \u001b[0mhead\u001b[0m\u001b[0;34m.\u001b[0m\u001b[0mnext\u001b[0m\u001b[0;34m.\u001b[0m\u001b[0mnext\u001b[0m\u001b[0;34m.\u001b[0m\u001b[0mnext\u001b[0m\u001b[0;34m.\u001b[0m\u001b[0mnext\u001b[0m \u001b[0;34m=\u001b[0m \u001b[0mNode\u001b[0m\u001b[0;34m(\u001b[0m\u001b[0;36m1\u001b[0m\u001b[0;34m)\u001b[0m\u001b[0;34m\u001b[0m\u001b[0;34m\u001b[0m\u001b[0m\n\u001b[1;32m     70\u001b[0m \u001b[0;34m\u001b[0m\u001b[0m\n\u001b[0;32m---> 71\u001b[0;31m     \u001b[0mresult\u001b[0m \u001b[0;34m=\u001b[0m \u001b[0misPalindrome\u001b[0m\u001b[0;34m(\u001b[0m\u001b[0mhead\u001b[0m\u001b[0;34m)\u001b[0m\u001b[0;34m\u001b[0m\u001b[0;34m\u001b[0m\u001b[0m\n\u001b[0m\u001b[1;32m     72\u001b[0m \u001b[0;34m\u001b[0m\u001b[0m\n\u001b[1;32m     73\u001b[0m     \u001b[0;32mif\u001b[0m \u001b[0mresult\u001b[0m\u001b[0;34m:\u001b[0m\u001b[0;34m\u001b[0m\u001b[0;34m\u001b[0m\u001b[0m\n",
            "\u001b[0;31mNameError\u001b[0m: name 'isPalindrome' is not defined"
          ]
        }
      ]
    },
    {
      "cell_type": "code",
      "source": [
        "#2.7 Intersection\n",
        "#iven two (singly) linked lists, determine if the two lists intersect.\n",
        "#Return the intersecting node. Note that the intersection is defined based on reference,\n",
        "# not value. That is, if the kth node of the first linked list is the exact same node\n",
        "# (by reference) as the jth node of the second linked list, then they are intersecting.\n",
        "\n",
        "#(?) what is meant by intersect?\n",
        "#intersetion is dfined based on reference, not value\n",
        "\n"
      ],
      "metadata": {
        "id": "P0LkN1wHfI3z"
      },
      "execution_count": null,
      "outputs": []
    }
  ]
}